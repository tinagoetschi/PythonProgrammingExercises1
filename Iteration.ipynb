{
 "cells": [
  {
   "cell_type": "markdown",
   "metadata": {},
   "source": [
    "## FOR and WHILE Loops"
   ]
  },
  {
   "cell_type": "markdown",
   "metadata": {},
   "source": [
    "A simple for loop that goes from 0 to 9 (up to but not including 10) and takes a step of 1 each time.\n",
    "\n",
    "Because 0 is the default start I don't actually need to include it\n",
    "\n",
    "Because 1 is the default step I don't actually need to incldue it either"
   ]
  },
  {
   "cell_type": "code",
   "execution_count": 18,
   "metadata": {},
   "outputs": [
    {
     "name": "stdout",
     "output_type": "stream",
     "text": [
      "0\n",
      "1\n",
      "2\n",
      "3\n",
      "4\n",
      "5\n",
      "6\n",
      "7\n",
      "8\n",
      "9\n",
      "1\n",
      "2\n",
      "3\n",
      "4\n",
      "5\n",
      "6\n",
      "7\n",
      "8\n",
      "9\n",
      "10\n"
     ]
    }
   ],
   "source": [
    "for counter in range (0,10,1):\n",
    "    print(counter)\n",
    "\n",
    "for counter in range (10):\n",
    "    print(counter)"
   ]
  },
  {
   "cell_type": "code",
   "execution_count": 8,
   "metadata": {},
   "outputs": [
    {
     "name": "stdout",
     "output_type": "stream",
     "text": [
      "0\n",
      "5\n",
      "10\n",
      "15\n",
      "20\n",
      "25\n",
      "30\n",
      "35\n",
      "40\n",
      "45\n",
      "50\n",
      "55\n",
      "60\n",
      "65\n",
      "70\n",
      "75\n",
      "80\n",
      "85\n",
      "90\n",
      "95\n"
     ]
    }
   ],
   "source": [
    "for counter in range (0,100,5):\n",
    "    print(counter)"
   ]
  },
  {
   "cell_type": "code",
   "execution_count": 13,
   "metadata": {},
   "outputs": [
    {
     "name": "stdout",
     "output_type": "stream",
     "text": [
      "100,99,98,97,96,95,94,93,92,91,90,89,88,87,86,85,84,83,82,81,80,79,78,77,76,75,74,73,72,71,70,69,68,67,66,65,64,63,62,61,60,59,58,57,56,55,54,53,52,51,50,49,48,47,46,45,44,43,42,41,40,39,38,37,36,35,34,33,32,31,30,29,28,27,26,25,24,23,22,21,20,19,18,17,16,15,14,13,12,11,10,9,8,7,6,5,4,3,2,"
     ]
    }
   ],
   "source": [
    "for counter in range (100,1,-1):\n",
    "    print(counter,end=\",\")"
   ]
  },
  {
   "cell_type": "code",
   "execution_count": 19,
   "metadata": {},
   "outputs": [
    {
     "name": "stdout",
     "output_type": "stream",
     "text": [
      "100*99*98*97*96*95*94*93*92*91*90*89*88*87*86*85*84*83*82*81*80*79*78*77*76*75*74*73*72*71*70*69*68*67*66*65*64*63*62*61*60*59*58*57*56*55*54*53*52*51*50*49*48*47*46*45*44*43*42*41*40*39*38*37*36*35*34*33*32*31*30*29*28*27*26*25*24*23*22*21*20*19*18*17*16*15*14*13*12*11*10*9*8*7*6*5*4*3*2*"
     ]
    }
   ],
   "source": [
    "for i in range (100,1,-1):\n",
    "    print(i,end=\"*\")"
   ]
  },
  {
   "cell_type": "code",
   "execution_count": 23,
   "metadata": {
    "collapsed": true
   },
   "outputs": [],
   "source": [
    "# this gives NO output \n",
    "#this is a LOGICAL error - a programmer error\n",
    "#not a syntax error\n",
    "\n",
    "for i in range (1,100,-1):\n",
    "    print(i,end=\"*\")"
   ]
  },
  {
   "cell_type": "markdown",
   "metadata": {},
   "source": [
    "## While (conditional) loops"
   ]
  },
  {
   "cell_type": "code",
   "execution_count": 27,
   "metadata": {},
   "outputs": [
    {
     "name": "stdout",
     "output_type": "stream",
     "text": [
      "do you want to continue? press S to stop s\n"
     ]
    }
   ],
   "source": [
    "loopVar = \"x\" # I -nititalse\n",
    "while loopVar != \"s\": # T - est\n",
    "    loopVar = input(\"do you want to continue? press S to stop \").lower() #C-hange"
   ]
  },
  {
   "cell_type": "code",
   "execution_count": 45,
   "metadata": {},
   "outputs": [
    {
     "name": "stdout",
     "output_type": "stream",
     "text": [
      "You did not win this time but you have  4  lives left\n",
      "You did not win this time but you have  3  lives left\n",
      "yeah! you have won!!!\n"
     ]
    }
   ],
   "source": [
    "import random \n",
    "\n",
    "won = False # at the start the game has not been won\n",
    "lives = 5 #you start with 5 lives\n",
    "\n",
    "while not won and lives > 0 :\n",
    "    lives = lives -1 # lose a life on each round\n",
    "    x = random.randint(0,10)\n",
    "    if x == 5 or x==7 or x==2:\n",
    "        won = True\n",
    "        print(\"yeah! you have won!!!\")\n",
    "    else:\n",
    "        print(\"You did not win this time but you have \", lives, \" lives left\")\n",
    "\n",
    "# after the loop is finished this code runs\n",
    "if lives == 0:\n",
    "    print(\"sorry you lost the game\")\n",
    "    "
   ]
  }
 ],
 "metadata": {
  "kernelspec": {
   "display_name": "Python 3",
   "language": "python",
   "name": "python3"
  },
  "language_info": {
   "codemirror_mode": {
    "name": "ipython",
    "version": 3
   },
   "file_extension": ".py",
   "mimetype": "text/x-python",
   "name": "python",
   "nbconvert_exporter": "python",
   "pygments_lexer": "ipython3",
   "version": "3.5.2"
  }
 },
 "nbformat": 4,
 "nbformat_minor": 2
}
