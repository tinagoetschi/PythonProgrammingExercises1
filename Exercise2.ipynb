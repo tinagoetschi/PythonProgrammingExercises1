{
 "cells": [
  {
   "cell_type": "markdown",
   "metadata": {},
   "source": [
    "## This notebook is an example of what I have learned:\n"
   ]
  },
  {
   "cell_type": "code",
   "execution_count": 1,
   "metadata": {},
   "outputs": [
    {
     "name": "stdout",
     "output_type": "stream",
     "text": [
      "2\n",
      "5.6\n",
      "hello\n",
      "True\n"
     ]
    }
   ],
   "source": [
    "#printing out values of different data types\n",
    "print(2) # integers\n",
    "print(5.6) # float - this is what pythan calls real numbers\n",
    "print(\"hello\") # string\n",
    "print(True) # True and False are Boolean values"
   ]
  },
  {
   "cell_type": "code",
   "execution_count": 3,
   "metadata": {},
   "outputs": [
    {
     "name": "stdout",
     "output_type": "stream",
     "text": [
      "Tina   15   Ada   1.72 m\n"
     ]
    }
   ],
   "source": [
    "#Variables are a way of storing data\n",
    "age = 15\n",
    "name = \"Tina\"\n",
    "college = \"Ada\"\n",
    "height = 1.72\n",
    "\n",
    "print(name, \" \", age , \" \", college, \" \", height, \"m\")"
   ]
  },
  {
   "cell_type": "markdown",
   "metadata": {},
   "source": [
    "When I make a mistake in Python the interpreter will give a SyntaxError like this:\n",
    "``` python\n",
    "2/\n",
    "SyntaxError: invalid syntax\n",
    "```\n",
    "\n",
    "If I mix up types that are not allowed I'll get a Type Error like this\n",
    "```python\n",
    "2+\"hello\"\n",
    "TypeError: unsupported operand type(s) for +: 'int' and 'str'\n",
    "```"
   ]
  },
  {
   "cell_type": "markdown",
   "metadata": {},
   "source": [
    "## Operators\n",
    "\n",
    "I can do the standard maths things + - / ```*```\n",
    "\n",
    "But also\n",
    "\n",
    "// - floor divide (whole number only, rounded down)\n",
    "\n",
    "```**``` Powers\n",
    "\n",
    "% - modulus (divide and give the remainder)"
   ]
  },
  {
   "cell_type": "code",
   "execution_count": 7,
   "metadata": {},
   "outputs": [
    {
     "data": {
      "text/plain": [
       "1"
      ]
     },
     "execution_count": 7,
     "metadata": {},
     "output_type": "execute_result"
    }
   ],
   "source": [
    "22%3 # this will be the  REMAINDER when 22 is divide by 3, so 1"
   ]
  },
  {
   "cell_type": "code",
   "execution_count": 9,
   "metadata": {},
   "outputs": [
    {
     "data": {
      "text/plain": [
       "7"
      ]
     },
     "execution_count": 9,
     "metadata": {},
     "output_type": "execute_result"
    }
   ],
   "source": [
    "22//3 # this will be how many WHOLE times 3 goes into 22, so 7"
   ]
  },
  {
   "cell_type": "code",
   "execution_count": 10,
   "metadata": {},
   "outputs": [
    {
     "data": {
      "text/plain": [
       "8"
      ]
     },
     "execution_count": 10,
     "metadata": {},
     "output_type": "execute_result"
    }
   ],
   "source": [
    "2**3 # this is 2 to the power of 3 so 8"
   ]
  }
 ],
 "metadata": {
  "kernelspec": {
   "display_name": "Python 3",
   "language": "python",
   "name": "python3"
  },
  "language_info": {
   "codemirror_mode": {
    "name": "ipython",
    "version": 3
   },
   "file_extension": ".py",
   "mimetype": "text/x-python",
   "name": "python",
   "nbconvert_exporter": "python",
   "pygments_lexer": "ipython3",
   "version": "3.5.2"
  }
 },
 "nbformat": 4,
 "nbformat_minor": 2
}
