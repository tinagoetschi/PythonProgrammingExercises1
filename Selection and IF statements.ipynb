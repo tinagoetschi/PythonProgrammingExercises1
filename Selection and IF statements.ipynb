{
 "cells": [
  {
   "cell_type": "markdown",
   "metadata": {},
   "source": [
    "## SELECTION: Making decisions: The IF/ELSE statement\n",
    "\n",
    "    \n"
   ]
  },
  {
   "cell_type": "code",
   "execution_count": 2,
   "metadata": {},
   "outputs": [
    {
     "name": "stdout",
     "output_type": "stream",
     "text": [
      "you are old\n"
     ]
    }
   ],
   "source": [
    "age = 22\n",
    "\n",
    "if age > 15:\n",
    "    print('you are old')\n",
    "elif age > 10:\n",
    "    print(\"you are not a teenager\")\n",
    "elif age > 5:\n",
    "    print(\"you are a littlie\")\n",
    "else:\n",
    "    print(\"are you even born yet???\")"
   ]
  },
  {
   "cell_type": "code",
   "execution_count": 3,
   "metadata": {},
   "outputs": [
    {
     "name": "stdout",
     "output_type": "stream",
     "text": [
      "are you even born yet???\n"
     ]
    }
   ],
   "source": [
    "age = 3\n",
    "\n",
    "if age > 15:\n",
    "    print('you are old')\n",
    "elif age > 10:\n",
    "    print(\"you are not a teenager\")\n",
    "elif age > 5:\n",
    "    print(\"you are a littlie\")\n",
    "else:\n",
    "    print(\"are you even born yet???\")"
   ]
  }
 ],
 "metadata": {
  "kernelspec": {
   "display_name": "Python 3",
   "language": "python",
   "name": "python3"
  },
  "language_info": {
   "codemirror_mode": {
    "name": "ipython",
    "version": 3
   },
   "file_extension": ".py",
   "mimetype": "text/x-python",
   "name": "python",
   "nbconvert_exporter": "python",
   "pygments_lexer": "ipython3",
   "version": "3.5.2"
  }
 },
 "nbformat": 4,
 "nbformat_minor": 2
}
